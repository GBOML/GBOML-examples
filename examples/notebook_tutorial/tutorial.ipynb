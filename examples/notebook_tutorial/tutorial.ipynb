{
 "cells": [
  {
   "cell_type": "markdown",
   "id": "986c3b01",
   "metadata": {},
   "source": [
    "# A Simple Problem\n",
    "\n",
    "Let us consider a simple problem of sizing and planning a small energy system made-up of a solar PV plant and a battery. The goal is to find the optimal capacity of PV panels and battery to install in order to answer a certain known electricity load and also plan when to charge and discharge the battery."
   ]
  },
  {
   "cell_type": "code",
   "execution_count": null,
   "id": "036b9022",
   "metadata": {},
   "outputs": [],
   "source": [
    "my_problem = \"\"\"\n",
    "#TIMEHORIZON \n",
    "    T = 24; // planning horizon (hours)\n",
    "\n",
    "#GLOBAL\n",
    "    wacc = 0.07;\n",
    "    number_years_horizon = T/8760;\n",
    "\n",
    "#NODE SOLAR_PV_PLANTS\n",
    "    #PARAMETERS\n",
    "        full_capex = 380.0;\n",
    "        lifetime = 25.0;\n",
    "        annualised_capex = full_capex * global.wacc * (1 + global.wacc)**lifetime / ((1 + global.wacc)**lifetime - 1); // MEur\n",
    "        fom = 7.25; // MEur/year\n",
    "        vom = 0.0;\n",
    "        capacity_factor_PV = import \"../remote_energy_supply_chain/pv_capacity_factors.csv\"; // Dimensionless\n",
    "        max_capacity = 500.0; // GW\n",
    "    #VARIABLES\n",
    "        internal: capacity;\n",
    "        external: electricity[T];\n",
    "    #CONSTRAINTS\n",
    "        electricity[t] <= capacity_factor_PV[t] * capacity;\n",
    "        capacity <= max_capacity;\n",
    "        capacity >= 0;\n",
    "        electricity[t] >= 0;\n",
    "    #OBJECTIVES\n",
    "        min: global.number_years_horizon * (annualised_capex + fom) * capacity;\n",
    "        min: vom * electricity[t];\n",
    "        \n",
    "\n",
    "#NODE BATTERY_STORAGE\n",
    "    #PARAMETERS\n",
    "        full_capex_stock = 142.0;\n",
    "        full_capex_flow = 160.0;\n",
    "        lifetime_stock = 10.0;\n",
    "        lifetime_flow = 10.0;\n",
    "        annualised_capex_stock = full_capex_stock * global.wacc * (1 + global.wacc)**lifetime_stock / ((1 + global.wacc)**lifetime_stock - 1); // MEur\n",
    "        annualised_capex_flow = full_capex_flow * global.wacc * (1 + global.wacc)**lifetime_flow / ((1 + global.wacc)**lifetime_flow - 1); // MEur\n",
    "        fom_stock = 0.0;\n",
    "        fom_flow = 0.5;\n",
    "        vom_stock = 0.0018;\n",
    "        vom_flow = 0.0;\n",
    "        charge_discharge_ratio = 1.0;\n",
    "        self_discharge = 0.00004;\n",
    "        efficiency_in = 0.959;\n",
    "        efficiency_out = 0.959;\n",
    "    #VARIABLES\n",
    "        internal: capacity_flow;\n",
    "        internal: capacity_stock;\n",
    "        internal: electricity_stored[T];\n",
    "        external: electricity_in[T];\n",
    "        external: electricity_out[T];\n",
    "    #CONSTRAINTS\n",
    "        electricity_in[t] <= capacity_flow;\n",
    "        electricity_out[t] <= charge_discharge_ratio * capacity_flow;\n",
    "        electricity_stored[t] <= capacity_stock;\n",
    "        electricity_stored[0] == electricity_stored[T-1];\n",
    "        electricity_stored[t+1] == (1 - self_discharge) * electricity_stored[t] + efficiency_in * electricity_in[t] - electricity_out[t] / efficiency_out;\n",
    "        capacity_flow >= 0;\n",
    "        capacity_stock >= 0;\n",
    "        electricity_stored[t] >= 0;\n",
    "        electricity_in[t] >= 0;\n",
    "        electricity_out[t] >= 0;\n",
    "    #OBJECTIVES\n",
    "        min: global.number_years_horizon * (annualised_capex_stock + fom_stock) * capacity_stock + global.number_years_horizon * (annualised_capex_flow + fom_flow) * capacity_flow;\n",
    "        min: vom_stock * electricity_stored[t] + vom_flow * electricity_in[t];\n",
    "\n",
    "#HYPEREDGE POWER_BALANCE\n",
    "    #PARAMETERS\n",
    "        electrical_load = import \"../microgrid/demand.csv\";\n",
    "    #CONSTRAINTS\n",
    "        SOLAR_PV_PLANTS.electricity[t]+BATTERY_STORAGE.electricity_out[t] == electrical_load[mod(t,24)] + BATTERY_STORAGE.electricity_in[t];\n",
    "\"\"\"\n",
    "\n",
    "# We write the problem in a file\n",
    "with open(\"toy_problem.txt\", \"w\") as f:\n",
    "  f.write(my_problem)"
   ]
  },
  {
   "cell_type": "markdown",
   "id": "eb380fa4",
   "metadata": {},
   "source": [
    "# How to run the model\n",
    "This model is saved in the file named \"toy_problem.txt\". In order to run this model, the following command can be used: \n",
    "> gboml toy_problem.txt --gurobi --json --output toy_problem\n",
    "\n",
    "gboml calls the GBOML compiler upon the preceeding file.\n",
    "toy_problem.txt is the name of the file\n",
    "--gurobi tells the compiler to set the option to the gurobi optimizer\n",
    "--json tells the compiler to output the solution as a JSON file\n",
    "--output renames the output to the name that comes after, in this case a file named toy_problem.json will be produced\n"
   ]
  },
  {
   "cell_type": "code",
   "execution_count": null,
   "id": "d55308eb",
   "metadata": {
    "scrolled": true
   },
   "outputs": [],
   "source": [
    "! gboml toy_problem.txt --gurobi --json --output toy_problem"
   ]
  },
  {
   "cell_type": "markdown",
   "id": "6b11ff3b",
   "metadata": {},
   "source": [
    "# Show solution\n",
    "The command \"cat\" is used to show a file in the terminal directly. "
   ]
  },
  {
   "cell_type": "code",
   "execution_count": null,
   "id": "0745da75",
   "metadata": {},
   "outputs": [],
   "source": [
    "! cat toy_problem.json"
   ]
  },
  {
   "cell_type": "code",
   "execution_count": null,
   "id": "b57f7886",
   "metadata": {},
   "outputs": [],
   "source": [
    "import json\n",
    "\n",
    "with open(\"toy_problem.json\") as json_file:\n",
    "    toy_problem = json.load(json_file)\n",
    "    json_file.close()\n",
    "\n",
    "toy_problem[\"solution\"]"
   ]
  },
  {
   "cell_type": "markdown",
   "id": "46a95406",
   "metadata": {},
   "source": [
    "# Adding a component \n",
    "We want to add wind turbines to our simplistic model. In order to do that, first let's have a look at a more sophisticated example, the remote renewable energy hub.  "
   ]
  },
  {
   "cell_type": "markdown",
   "id": "9417ec24",
   "metadata": {},
   "source": [
    "## Remote renewable energy hub\n",
    "\n",
    "First let us show the file in itself and run it to check that everything works. We will also check that there is a wind turbines node in it. Again, we use the command \"cat\" as mentionned above. "
   ]
  },
  {
   "cell_type": "code",
   "execution_count": null,
   "id": "bd2ff8fa",
   "metadata": {},
   "outputs": [],
   "source": [
    "! cat ../remote_energy_supply_chain/remote_hub_wacc.txt"
   ]
  },
  {
   "cell_type": "markdown",
   "id": "939c0702",
   "metadata": {},
   "source": [
    "Let's run the file in two ways:\n",
    "- using the gboml python library by importing gboml in a python file\n",
    "- using the terminal gboml executable as before"
   ]
  },
  {
   "cell_type": "code",
   "execution_count": null,
   "id": "83051f67",
   "metadata": {},
   "outputs": [],
   "source": [
    "# GBOML python library\n",
    "from gboml import GbomlGraph\n",
    "\n",
    "T = 365\n",
    "gboml_model = GbomlGraph(T)\n",
    "gboml_model.add_global_parameter(\"wacc\", 0.07)\n",
    "gboml_model.add_global_parameter(\"number_years_horizon\", T/8760)\n",
    "nodes, edges = gboml_model.import_all_nodes_and_edges(\"../remote_energy_supply_chain/remote_hub_wacc.txt\")\n",
    "gboml_model.add_nodes_in_model(*nodes)\n",
    "gboml_model.add_hyperedges_in_model(*edges)\n",
    "gboml_model.build_model()\n",
    "solution, objective, status, solver_info, _, _ = gboml_model.solve_gurobi()\n",
    "solution_dict = gboml_model.turn_solution_to_dictionary(solver_info, status, solution, objective)\n",
    "print(solution_dict)"
   ]
  },
  {
   "cell_type": "code",
   "execution_count": null,
   "id": "6d7e0810",
   "metadata": {},
   "outputs": [],
   "source": [
    "!gboml ../remote_energy_supply_chain/remote_hub_wacc.txt --gurobi"
   ]
  },
  {
   "cell_type": "markdown",
   "id": "348a3f7c",
   "metadata": {},
   "source": [
    "## Adding WIND_PLANTS\n",
    "In the above mentionned remote renable hub, we found a node named WIND_PLANTS that models wind turbines that we wish to add to our small toy problems. \n",
    "\n",
    "Here again, we can proceed in two ways:\n",
    "- via the GBOML file \n",
    "- via the gboml python library \n",
    "\n",
    "In the GBOML file, we can import the WIND_PLANTS by writing \n",
    "> #NODE WIND_PLANTS = import WIND_PLANTS from \"../remote_energy_supply_chain/remote_hub_wacc.txt\" with lifetime = 35.0;\n",
    "\n",
    "We say that we import the node named \"WIND_PLANTS\" from the file \"remote_hub_wacc.txt\" and change one of its parameters named \"lifetime\" by the value 35.0. Furthermore, we change the graph topology by adding the electricty of the wind farm in the model. \n",
    "\n",
    "The file is therefore written as follows and saved in \"toy_problem2.txt\", "
   ]
  },
  {
   "cell_type": "code",
   "execution_count": null,
   "id": "3c548e71",
   "metadata": {},
   "outputs": [],
   "source": [
    "my_problem = \"\"\"\n",
    "#TIMEHORIZON \n",
    "    T = 24; // planning horizon (hours)\n",
    "\n",
    "#GLOBAL\n",
    "    wacc = 0.07;\n",
    "    number_years_horizon = T/8760;\n",
    "\n",
    "#NODE SOLAR_PV_PLANTS\n",
    "    #PARAMETERS\n",
    "        full_capex = 380.0;\n",
    "        lifetime = 25.0;\n",
    "        annualised_capex = full_capex * global.wacc * (1 + global.wacc)**lifetime / ((1 + global.wacc)**lifetime - 1); // MEur\n",
    "        fom = 7.25; // MEur/year\n",
    "        vom = 0.0;\n",
    "        capacity_factor_PV = import \"../remote_energy_supply_chain/pv_capacity_factors.csv\"; // Dimensionless\n",
    "        max_capacity = 500.0; // GW\n",
    "    #VARIABLES\n",
    "        internal: capacity;\n",
    "        external: electricity[T];\n",
    "    #CONSTRAINTS\n",
    "        electricity[t] <= capacity_factor_PV[t] * capacity;\n",
    "        capacity <= max_capacity;\n",
    "        capacity >= 0;\n",
    "        electricity[t] >= 0;\n",
    "    #OBJECTIVES\n",
    "        min: global.number_years_horizon * (annualised_capex + fom) * capacity;\n",
    "        min: vom * electricity[t];\n",
    "        \n",
    "\n",
    "#NODE BATTERY_STORAGE\n",
    "    #PARAMETERS\n",
    "        full_capex_stock = 142.0;\n",
    "        full_capex_flow = 160.0;\n",
    "        lifetime_stock = 10.0;\n",
    "        lifetime_flow = 10.0;\n",
    "        annualised_capex_stock = full_capex_stock * global.wacc * (1 + global.wacc)**lifetime_stock / ((1 + global.wacc)**lifetime_stock - 1); // MEur\n",
    "        annualised_capex_flow = full_capex_flow * global.wacc * (1 + global.wacc)**lifetime_flow / ((1 + global.wacc)**lifetime_flow - 1); // MEur\n",
    "        fom_stock = 0.0;\n",
    "        fom_flow = 0.5;\n",
    "        vom_stock = 0.0018;\n",
    "        vom_flow = 0.0;\n",
    "        charge_discharge_ratio = 1.0;\n",
    "        self_discharge = 0.00004;\n",
    "        efficiency_in = 0.959;\n",
    "        efficiency_out = 0.959;\n",
    "    #VARIABLES\n",
    "        internal: capacity_flow;\n",
    "        internal: capacity_stock;\n",
    "        internal: electricity_stored[T];\n",
    "        external: electricity_in[T];\n",
    "        external: electricity_out[T];\n",
    "    #CONSTRAINTS\n",
    "        electricity_in[t] <= capacity_flow;\n",
    "        electricity_out[t] <= charge_discharge_ratio * capacity_flow;\n",
    "        electricity_stored[t] <= capacity_stock;\n",
    "        electricity_stored[0] == electricity_stored[T-1];\n",
    "        electricity_stored[t+1] == (1 - self_discharge) * electricity_stored[t] + efficiency_in * electricity_in[t] - electricity_out[t] / efficiency_out;\n",
    "        capacity_flow >= 0;\n",
    "        capacity_stock >= 0;\n",
    "        electricity_stored[t] >= 0;\n",
    "        electricity_in[t] >= 0;\n",
    "        electricity_out[t] >= 0;\n",
    "    #OBJECTIVES\n",
    "        min: global.number_years_horizon * (annualised_capex_stock + fom_stock) * capacity_stock + global.number_years_horizon * (annualised_capex_flow + fom_flow) * capacity_flow;\n",
    "        min: vom_stock * electricity_stored[t] + vom_flow * electricity_in[t];\n",
    "\n",
    "#NODE WIND_PLANTS = import WIND_PLANTS from \"../remote_energy_supply_chain/remote_hub_wacc.txt\" with\n",
    "        lifetime = 35.0;\n",
    "\n",
    "#HYPEREDGE POWER_BALANCE\n",
    "    #PARAMETERS\n",
    "        electrical_load = import \"../microgrid/demand.csv\";\n",
    "    #CONSTRAINTS\n",
    "        SOLAR_PV_PLANTS.electricity[t]+BATTERY_STORAGE.electricity_out[t]+WIND_PLANTS.electricity[t] \n",
    "           == electrical_load[mod(t,24)] + BATTERY_STORAGE.electricity_in[t];\n",
    "\"\"\"\n",
    "\n",
    "# We write the problem in a file\n",
    "with open(\"toy_problem2.txt\", \"w\") as f:\n",
    "  f.write(my_problem)"
   ]
  },
  {
   "cell_type": "markdown",
   "id": "772bcbb1",
   "metadata": {},
   "source": [
    "We run the model"
   ]
  },
  {
   "cell_type": "code",
   "execution_count": null,
   "id": "e3e70b35",
   "metadata": {},
   "outputs": [],
   "source": [
    "! gboml toy_problem2.txt --gurobi --nb_processes 4"
   ]
  },
  {
   "cell_type": "markdown",
   "id": "8537369a",
   "metadata": {},
   "source": [
    "We do a similar thing in the python interface."
   ]
  },
  {
   "cell_type": "code",
   "execution_count": null,
   "id": "2d69454a",
   "metadata": {},
   "outputs": [],
   "source": [
    "from gboml import GbomlGraph\n",
    "\n",
    "T = 24\n",
    "gboml_model = GbomlGraph(T)\n",
    "gboml_model.add_global_parameter(\"wacc\", 0.07)\n",
    "gboml_model.add_global_parameter(\"number_years_horizon\", T/8760)\n",
    "nodes_toy, _ = gboml_model.import_all_nodes_and_edges(\"toy_problem.txt\")\n",
    "_, hyperedges_toy2 = gboml_model.import_all_nodes_and_edges(\"toy_problem2.txt\")\n",
    "node_wind = gboml_model.import_node(\"../remote_energy_supply_chain/remote_hub_wacc.txt\",\n",
    "                                    \"WIND_PLANTS\", copy=True)\n",
    "gboml_model.add_nodes_in_model(*nodes_toy)\n",
    "gboml_model.add_nodes_in_model(node_wind)\n",
    "gboml_model.add_hyperedges_in_model(*hyperedges_toy2)\n",
    "gboml_model.build_model()\n",
    "solution = gboml_model.solve_gurobi()\n",
    "print(solution)"
   ]
  },
  {
   "cell_type": "markdown",
   "id": "355115cb",
   "metadata": {},
   "source": [
    "# Multi-processing\n",
    "In order to use multiprocessing to generate the model, one can simply add the number of processes wanted as follows, \n",
    "- In the gboml executable by adding the option \"--nb_processes\" followed by a number as  \n",
    "> gboml toy_problem2.txt --gurobi --nb_processes 4\n",
    "- In the python interface by adding a number to the function \"build_matrix\" \n",
    "> gboml_model.build_model(4)\n"
   ]
  },
  {
   "cell_type": "markdown",
   "id": "bf08801e",
   "metadata": {},
   "source": [
    "# Clean-up the temporary files."
   ]
  },
  {
   "cell_type": "code",
   "execution_count": null,
   "id": "827b81ec",
   "metadata": {},
   "outputs": [],
   "source": [
    "! rm toy_problem.txt toy_problem2.txt toy_problem.json"
   ]
  }
 ],
 "metadata": {
  "kernelspec": {
   "display_name": "Python 3 (ipykernel)",
   "language": "python",
   "name": "python3"
  },
  "language_info": {
   "codemirror_mode": {
    "name": "ipython",
    "version": 3
   },
   "file_extension": ".py",
   "mimetype": "text/x-python",
   "name": "python",
   "nbconvert_exporter": "python",
   "pygments_lexer": "ipython3",
   "version": "3.9.7"
  }
 },
 "nbformat": 4,
 "nbformat_minor": 5
}